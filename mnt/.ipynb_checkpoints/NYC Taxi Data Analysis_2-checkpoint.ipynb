{
 "cells": [
  {
   "cell_type": "code",
   "execution_count": 44,
   "metadata": {},
   "outputs": [],
   "source": [
    "from pyspark.sql import SparkSession\n",
    "\n",
    "# Initialize Spark session with Delta Lake support\n",
    "spark = SparkSession.builder \\\n",
    "    .appName(\"NYC Taxi Data Analysis\") \\\n",
    "    .config(\"spark.jars.packages\", \"io.delta:delta-core_2.12:2.4.0\") \\\n",
    "    .config(\"spark.sql.extensions\", \"io.delta.sql.DeltaSparkSessionExtension\") \\\n",
    "    .config(\"spark.sql.catalog.spark_catalog\", \"org.apache.spark.sql.delta.catalog.DeltaCatalog\") \\\n",
    "    .getOrCreate()"
   ]
  },
  {
   "cell_type": "code",
   "execution_count": 45,
   "metadata": {},
   "outputs": [],
   "source": [
    "import geopandas as gpd\n",
    "from shapely.geometry import shape\n",
    "import json\n",
    "import matplotlib.pyplot as plt\n",
    "\n",
    "from pyspark.sql.functions import udf\n",
    "from pyspark.sql.types import StringType\n",
    "from shapely.geometry import Point\n",
    "\n",
    "from pyspark.sql.functions import unix_timestamp\n",
    "\n",
    "from pyspark.sql.window import Window\n",
    "from pyspark.sql.functions import lag, lead, col, avg, when, desc, sum as spark_sum"
   ]
  },
  {
   "cell_type": "markdown",
   "metadata": {},
   "source": [
    "### Load the Data"
   ]
  },
  {
   "cell_type": "code",
   "execution_count": 46,
   "metadata": {},
   "outputs": [],
   "source": [
    "# Trip data\n",
    "# trip_data_df = spark.read.csv(\"trip_data/*.csv\", header=True, inferSchema=True)\n",
    "all_trip_data_df = spark.read.csv(\"sample.csv\", header=True, inferSchema=True)"
   ]
  },
  {
   "cell_type": "code",
   "execution_count": 47,
   "metadata": {},
   "outputs": [
    {
     "name": "stdout",
     "output_type": "stream",
     "text": [
      "Total Number of Rows: 99999\n"
     ]
    }
   ],
   "source": [
    "print(f\"Total Number of Rows: {all_trip_data_df.count()}\")"
   ]
  },
  {
   "cell_type": "code",
   "execution_count": 48,
   "metadata": {},
   "outputs": [
    {
     "data": {
      "text/plain": [
       "['medallion',\n",
       " 'hack_license',\n",
       " 'vendor_id',\n",
       " 'rate_code',\n",
       " 'store_and_fwd_flag',\n",
       " 'pickup_datetime',\n",
       " 'dropoff_datetime',\n",
       " 'passenger_count',\n",
       " 'trip_time_in_secs',\n",
       " 'trip_distance',\n",
       " 'pickup_longitude',\n",
       " 'pickup_latitude',\n",
       " 'dropoff_longitude',\n",
       " 'dropoff_latitude']"
      ]
     },
     "execution_count": 48,
     "metadata": {},
     "output_type": "execute_result"
    }
   ],
   "source": [
    "all_trip_data_df.columns"
   ]
  },
  {
   "cell_type": "code",
   "execution_count": 49,
   "metadata": {},
   "outputs": [],
   "source": [
    "# select only the columns of interest\n",
    "trip_data_df = all_trip_data_df.select(\n",
    "    all_trip_data_df[\"medallion\"],\n",
    "    all_trip_data_df[\"hack_license\"],\n",
    "    all_trip_data_df[\"pickup_longitude\"],\n",
    "    all_trip_data_df[\"pickup_latitude\"],\n",
    "    all_trip_data_df[\"pickup_datetime\"],\n",
    "    all_trip_data_df[\"dropoff_longitude\"],\n",
    "    all_trip_data_df[\"dropoff_latitude\"],\n",
    "    all_trip_data_df[\"dropoff_datetime\"]\n",
    ")"
   ]
  },
  {
   "cell_type": "code",
   "execution_count": 50,
   "metadata": {},
   "outputs": [
    {
     "data": {
      "text/plain": [
       "['medallion',\n",
       " 'hack_license',\n",
       " 'pickup_longitude',\n",
       " 'pickup_latitude',\n",
       " 'pickup_datetime',\n",
       " 'dropoff_longitude',\n",
       " 'dropoff_latitude',\n",
       " 'dropoff_datetime']"
      ]
     },
     "execution_count": 50,
     "metadata": {},
     "output_type": "execute_result"
    }
   ],
   "source": [
    "trip_data_df.columns"
   ]
  },
  {
   "cell_type": "code",
   "execution_count": 51,
   "metadata": {},
   "outputs": [
    {
     "name": "stdout",
     "output_type": "stream",
     "text": [
      "+--------------------+--------------------+----------------+---------------+-------------------+-----------------+----------------+-------------------+\n",
      "|           medallion|        hack_license|pickup_longitude|pickup_latitude|    pickup_datetime|dropoff_longitude|dropoff_latitude|   dropoff_datetime|\n",
      "+--------------------+--------------------+----------------+---------------+-------------------+-----------------+----------------+-------------------+\n",
      "|89D227B655E5C82AE...|BA96DE419E711691B...|      -73.978165|      40.757977|2013-01-01 15:11:48|       -73.989838|       40.751171|2013-01-01 15:18:10|\n",
      "|0BD7C8F5BA12B88E0...|9FD8F69F0804BDB55...|      -74.006683|      40.731781|2013-01-06 00:18:35|       -73.994499|        40.75066|2013-01-06 00:22:54|\n",
      "|0BD7C8F5BA12B88E0...|9FD8F69F0804BDB55...|      -74.004707|       40.73777|2013-01-05 18:49:41|       -74.009834|       40.726002|2013-01-05 18:54:23|\n",
      "|DFD2202EE08F7A8DC...|51EE87E3205C985EF...|      -73.974602|      40.759945|2013-01-07 23:54:15|       -73.984734|       40.759388|2013-01-07 23:58:20|\n",
      "|DFD2202EE08F7A8DC...|51EE87E3205C985EF...|       -73.97625|      40.748528|2013-01-07 23:25:03|       -74.002586|       40.747868|2013-01-07 23:34:24|\n",
      "+--------------------+--------------------+----------------+---------------+-------------------+-----------------+----------------+-------------------+\n",
      "only showing top 5 rows\n",
      "\n"
     ]
    }
   ],
   "source": [
    "trip_data_df.show(5)"
   ]
  },
  {
   "cell_type": "markdown",
   "metadata": {},
   "source": [
    "### Data Preparation for Queries"
   ]
  },
  {
   "cell_type": "code",
   "execution_count": 52,
   "metadata": {},
   "outputs": [],
   "source": [
    "# filter out rows with None values in coordinates\n",
    "filtered_trip_data_df = trip_data_df.filter(\n",
    "    (col(\"pickup_longitude\").isNotNull()) & \n",
    "    (col(\"pickup_latitude\").isNotNull()) & \n",
    "    (col(\"dropoff_longitude\").isNotNull()) & \n",
    "    (col(\"dropoff_latitude\").isNotNull())\n",
    ")"
   ]
  },
  {
   "cell_type": "code",
   "execution_count": 53,
   "metadata": {},
   "outputs": [],
   "source": [
    "# load the geojson data\n",
    "with open(\"nyc-boroughs.geojson\") as f:\n",
    "    nyc_boroughs_geojson_data = json.load(f)"
   ]
  },
  {
   "cell_type": "code",
   "execution_count": 7,
   "metadata": {},
   "outputs": [],
   "source": [
    "# nyc_boroughs_geojson_data"
   ]
  },
  {
   "cell_type": "code",
   "execution_count": 54,
   "metadata": {},
   "outputs": [],
   "source": [
    "# Use geopandas to convert the GeoJSON to a DataFrame\n",
    "boroughs_gdf = gpd.GeoDataFrame.from_features(nyc_boroughs_geojson_data[\"features\"])"
   ]
  },
  {
   "cell_type": "code",
   "execution_count": 55,
   "metadata": {},
   "outputs": [
    {
     "data": {
      "text/html": [
       "<div>\n",
       "<style scoped>\n",
       "    .dataframe tbody tr th:only-of-type {\n",
       "        vertical-align: middle;\n",
       "    }\n",
       "\n",
       "    .dataframe tbody tr th {\n",
       "        vertical-align: top;\n",
       "    }\n",
       "\n",
       "    .dataframe thead th {\n",
       "        text-align: right;\n",
       "    }\n",
       "</style>\n",
       "<table border=\"1\" class=\"dataframe\">\n",
       "  <thead>\n",
       "    <tr style=\"text-align: right;\">\n",
       "      <th></th>\n",
       "      <th>geometry</th>\n",
       "      <th>boroughCode</th>\n",
       "      <th>borough</th>\n",
       "      <th>@id</th>\n",
       "    </tr>\n",
       "  </thead>\n",
       "  <tbody>\n",
       "    <tr>\n",
       "      <th>0</th>\n",
       "      <td>POLYGON ((-74.05051 40.56642, -74.04998 40.566...</td>\n",
       "      <td>5</td>\n",
       "      <td>Staten Island</td>\n",
       "      <td>http://nyc.pediacities.com/Resource/Borough/St...</td>\n",
       "    </tr>\n",
       "    <tr>\n",
       "      <th>1</th>\n",
       "      <td>POLYGON ((-74.05314 40.57770, -74.05406 40.577...</td>\n",
       "      <td>5</td>\n",
       "      <td>Staten Island</td>\n",
       "      <td>http://nyc.pediacities.com/Resource/Borough/St...</td>\n",
       "    </tr>\n",
       "    <tr>\n",
       "      <th>2</th>\n",
       "      <td>POLYGON ((-74.15946 40.64145, -74.15998 40.641...</td>\n",
       "      <td>5</td>\n",
       "      <td>Staten Island</td>\n",
       "      <td>http://nyc.pediacities.com/Resource/Borough/St...</td>\n",
       "    </tr>\n",
       "    <tr>\n",
       "      <th>3</th>\n",
       "      <td>POLYGON ((-74.08221 40.64828, -74.08142 40.648...</td>\n",
       "      <td>5</td>\n",
       "      <td>Staten Island</td>\n",
       "      <td>http://nyc.pediacities.com/Resource/Borough/St...</td>\n",
       "    </tr>\n",
       "    <tr>\n",
       "      <th>4</th>\n",
       "      <td>POLYGON ((-73.83668 40.59495, -73.83671 40.594...</td>\n",
       "      <td>4</td>\n",
       "      <td>Queens</td>\n",
       "      <td>http://nyc.pediacities.com/Resource/Borough/Qu...</td>\n",
       "    </tr>\n",
       "    <tr>\n",
       "      <th>...</th>\n",
       "      <td>...</td>\n",
       "      <td>...</td>\n",
       "      <td>...</td>\n",
       "      <td>...</td>\n",
       "    </tr>\n",
       "    <tr>\n",
       "      <th>99</th>\n",
       "      <td>POLYGON ((-73.78103 40.87648, -73.78121 40.876...</td>\n",
       "      <td>2</td>\n",
       "      <td>Bronx</td>\n",
       "      <td>http://nyc.pediacities.com/Resource/Borough/Bronx</td>\n",
       "    </tr>\n",
       "    <tr>\n",
       "      <th>100</th>\n",
       "      <td>POLYGON ((-73.78651 40.88094, -73.78582 40.880...</td>\n",
       "      <td>2</td>\n",
       "      <td>Bronx</td>\n",
       "      <td>http://nyc.pediacities.com/Resource/Borough/Bronx</td>\n",
       "    </tr>\n",
       "    <tr>\n",
       "      <th>101</th>\n",
       "      <td>POLYGON ((-73.87295 40.90444, -73.85947 40.900...</td>\n",
       "      <td>2</td>\n",
       "      <td>Bronx</td>\n",
       "      <td>http://nyc.pediacities.com/Resource/Borough/Bronx</td>\n",
       "    </tr>\n",
       "    <tr>\n",
       "      <th>102</th>\n",
       "      <td>POLYGON ((-73.80518 40.81527, -73.80508 40.815...</td>\n",
       "      <td>2</td>\n",
       "      <td>Bronx</td>\n",
       "      <td>http://nyc.pediacities.com/Resource/Borough/Bronx</td>\n",
       "    </tr>\n",
       "    <tr>\n",
       "      <th>103</th>\n",
       "      <td>POLYGON ((-73.80408 40.81349, -73.80424 40.813...</td>\n",
       "      <td>2</td>\n",
       "      <td>Bronx</td>\n",
       "      <td>http://nyc.pediacities.com/Resource/Borough/Bronx</td>\n",
       "    </tr>\n",
       "  </tbody>\n",
       "</table>\n",
       "<p>104 rows × 4 columns</p>\n",
       "</div>"
      ],
      "text/plain": [
       "                                              geometry  boroughCode  \\\n",
       "0    POLYGON ((-74.05051 40.56642, -74.04998 40.566...            5   \n",
       "1    POLYGON ((-74.05314 40.57770, -74.05406 40.577...            5   \n",
       "2    POLYGON ((-74.15946 40.64145, -74.15998 40.641...            5   \n",
       "3    POLYGON ((-74.08221 40.64828, -74.08142 40.648...            5   \n",
       "4    POLYGON ((-73.83668 40.59495, -73.83671 40.594...            4   \n",
       "..                                                 ...          ...   \n",
       "99   POLYGON ((-73.78103 40.87648, -73.78121 40.876...            2   \n",
       "100  POLYGON ((-73.78651 40.88094, -73.78582 40.880...            2   \n",
       "101  POLYGON ((-73.87295 40.90444, -73.85947 40.900...            2   \n",
       "102  POLYGON ((-73.80518 40.81527, -73.80508 40.815...            2   \n",
       "103  POLYGON ((-73.80408 40.81349, -73.80424 40.813...            2   \n",
       "\n",
       "           borough                                                @id  \n",
       "0    Staten Island  http://nyc.pediacities.com/Resource/Borough/St...  \n",
       "1    Staten Island  http://nyc.pediacities.com/Resource/Borough/St...  \n",
       "2    Staten Island  http://nyc.pediacities.com/Resource/Borough/St...  \n",
       "3    Staten Island  http://nyc.pediacities.com/Resource/Borough/St...  \n",
       "4           Queens  http://nyc.pediacities.com/Resource/Borough/Qu...  \n",
       "..             ...                                                ...  \n",
       "99           Bronx  http://nyc.pediacities.com/Resource/Borough/Bronx  \n",
       "100          Bronx  http://nyc.pediacities.com/Resource/Borough/Bronx  \n",
       "101          Bronx  http://nyc.pediacities.com/Resource/Borough/Bronx  \n",
       "102          Bronx  http://nyc.pediacities.com/Resource/Borough/Bronx  \n",
       "103          Bronx  http://nyc.pediacities.com/Resource/Borough/Bronx  \n",
       "\n",
       "[104 rows x 4 columns]"
      ]
     },
     "execution_count": 55,
     "metadata": {},
     "output_type": "execute_result"
    }
   ],
   "source": [
    "boroughs_gdf"
   ]
  },
  {
   "cell_type": "code",
   "execution_count": 56,
   "metadata": {},
   "outputs": [
    {
     "data": {
      "text/html": [
       "<div>\n",
       "<style scoped>\n",
       "    .dataframe tbody tr th:only-of-type {\n",
       "        vertical-align: middle;\n",
       "    }\n",
       "\n",
       "    .dataframe tbody tr th {\n",
       "        vertical-align: top;\n",
       "    }\n",
       "\n",
       "    .dataframe thead th {\n",
       "        text-align: right;\n",
       "    }\n",
       "</style>\n",
       "<table border=\"1\" class=\"dataframe\">\n",
       "  <thead>\n",
       "    <tr style=\"text-align: right;\">\n",
       "      <th></th>\n",
       "      <th>geometry</th>\n",
       "      <th>boroughCode</th>\n",
       "      <th>borough</th>\n",
       "      <th>@id</th>\n",
       "    </tr>\n",
       "  </thead>\n",
       "  <tbody>\n",
       "    <tr>\n",
       "      <th>0</th>\n",
       "      <td>POLYGON ((-74.05051 40.56642, -74.04998 40.566...</td>\n",
       "      <td>5</td>\n",
       "      <td>Staten Island</td>\n",
       "      <td>http://nyc.pediacities.com/Resource/Borough/St...</td>\n",
       "    </tr>\n",
       "    <tr>\n",
       "      <th>1</th>\n",
       "      <td>POLYGON ((-74.05314 40.57770, -74.05406 40.577...</td>\n",
       "      <td>5</td>\n",
       "      <td>Staten Island</td>\n",
       "      <td>http://nyc.pediacities.com/Resource/Borough/St...</td>\n",
       "    </tr>\n",
       "    <tr>\n",
       "      <th>2</th>\n",
       "      <td>POLYGON ((-74.15946 40.64145, -74.15998 40.641...</td>\n",
       "      <td>5</td>\n",
       "      <td>Staten Island</td>\n",
       "      <td>http://nyc.pediacities.com/Resource/Borough/St...</td>\n",
       "    </tr>\n",
       "    <tr>\n",
       "      <th>3</th>\n",
       "      <td>POLYGON ((-74.08221 40.64828, -74.08142 40.648...</td>\n",
       "      <td>5</td>\n",
       "      <td>Staten Island</td>\n",
       "      <td>http://nyc.pediacities.com/Resource/Borough/St...</td>\n",
       "    </tr>\n",
       "    <tr>\n",
       "      <th>4</th>\n",
       "      <td>POLYGON ((-73.83668 40.59495, -73.83671 40.594...</td>\n",
       "      <td>4</td>\n",
       "      <td>Queens</td>\n",
       "      <td>http://nyc.pediacities.com/Resource/Borough/Qu...</td>\n",
       "    </tr>\n",
       "    <tr>\n",
       "      <th>...</th>\n",
       "      <td>...</td>\n",
       "      <td>...</td>\n",
       "      <td>...</td>\n",
       "      <td>...</td>\n",
       "    </tr>\n",
       "    <tr>\n",
       "      <th>99</th>\n",
       "      <td>POLYGON ((-73.78103 40.87648, -73.78121 40.876...</td>\n",
       "      <td>2</td>\n",
       "      <td>Bronx</td>\n",
       "      <td>http://nyc.pediacities.com/Resource/Borough/Bronx</td>\n",
       "    </tr>\n",
       "    <tr>\n",
       "      <th>100</th>\n",
       "      <td>POLYGON ((-73.78651 40.88094, -73.78582 40.880...</td>\n",
       "      <td>2</td>\n",
       "      <td>Bronx</td>\n",
       "      <td>http://nyc.pediacities.com/Resource/Borough/Bronx</td>\n",
       "    </tr>\n",
       "    <tr>\n",
       "      <th>101</th>\n",
       "      <td>POLYGON ((-73.87295 40.90444, -73.85947 40.900...</td>\n",
       "      <td>2</td>\n",
       "      <td>Bronx</td>\n",
       "      <td>http://nyc.pediacities.com/Resource/Borough/Bronx</td>\n",
       "    </tr>\n",
       "    <tr>\n",
       "      <th>102</th>\n",
       "      <td>POLYGON ((-73.80518 40.81527, -73.80508 40.815...</td>\n",
       "      <td>2</td>\n",
       "      <td>Bronx</td>\n",
       "      <td>http://nyc.pediacities.com/Resource/Borough/Bronx</td>\n",
       "    </tr>\n",
       "    <tr>\n",
       "      <th>103</th>\n",
       "      <td>POLYGON ((-73.80408 40.81349, -73.80424 40.813...</td>\n",
       "      <td>2</td>\n",
       "      <td>Bronx</td>\n",
       "      <td>http://nyc.pediacities.com/Resource/Borough/Bronx</td>\n",
       "    </tr>\n",
       "  </tbody>\n",
       "</table>\n",
       "<p>104 rows × 4 columns</p>\n",
       "</div>"
      ],
      "text/plain": [
       "                                              geometry  boroughCode  \\\n",
       "0    POLYGON ((-74.05051 40.56642, -74.04998 40.566...            5   \n",
       "1    POLYGON ((-74.05314 40.57770, -74.05406 40.577...            5   \n",
       "2    POLYGON ((-74.15946 40.64145, -74.15998 40.641...            5   \n",
       "3    POLYGON ((-74.08221 40.64828, -74.08142 40.648...            5   \n",
       "4    POLYGON ((-73.83668 40.59495, -73.83671 40.594...            4   \n",
       "..                                                 ...          ...   \n",
       "99   POLYGON ((-73.78103 40.87648, -73.78121 40.876...            2   \n",
       "100  POLYGON ((-73.78651 40.88094, -73.78582 40.880...            2   \n",
       "101  POLYGON ((-73.87295 40.90444, -73.85947 40.900...            2   \n",
       "102  POLYGON ((-73.80518 40.81527, -73.80508 40.815...            2   \n",
       "103  POLYGON ((-73.80408 40.81349, -73.80424 40.813...            2   \n",
       "\n",
       "           borough                                                @id  \n",
       "0    Staten Island  http://nyc.pediacities.com/Resource/Borough/St...  \n",
       "1    Staten Island  http://nyc.pediacities.com/Resource/Borough/St...  \n",
       "2    Staten Island  http://nyc.pediacities.com/Resource/Borough/St...  \n",
       "3    Staten Island  http://nyc.pediacities.com/Resource/Borough/St...  \n",
       "4           Queens  http://nyc.pediacities.com/Resource/Borough/Qu...  \n",
       "..             ...                                                ...  \n",
       "99           Bronx  http://nyc.pediacities.com/Resource/Borough/Bronx  \n",
       "100          Bronx  http://nyc.pediacities.com/Resource/Borough/Bronx  \n",
       "101          Bronx  http://nyc.pediacities.com/Resource/Borough/Bronx  \n",
       "102          Bronx  http://nyc.pediacities.com/Resource/Borough/Bronx  \n",
       "103          Bronx  http://nyc.pediacities.com/Resource/Borough/Bronx  \n",
       "\n",
       "[104 rows x 4 columns]"
      ]
     },
     "execution_count": 56,
     "metadata": {},
     "output_type": "execute_result"
    }
   ],
   "source": [
    "boroughs_gdf[\"geometry\"] = boroughs_gdf[\"geometry\"].apply(shape)\n",
    "boroughs_gdf"
   ]
  },
  {
   "cell_type": "code",
   "execution_count": 57,
   "metadata": {},
   "outputs": [],
   "source": [
    "boroughs_broadcast = spark.sparkContext.broadcast(boroughs_gdf)"
   ]
  },
  {
   "cell_type": "code",
   "execution_count": 58,
   "metadata": {},
   "outputs": [],
   "source": [
    "# create udf\n",
    "def get_borough(longitude, latitude):\n",
    "    if longitude is None or latitude is None:\n",
    "        return 'Unknown'\n",
    "    point = Point(longitude, latitude)\n",
    "    for _, row in boroughs_broadcast.value.iterrows():\n",
    "        if row[\"geometry\"].contains(point):\n",
    "            return row[\"borough\"]\n",
    "    return 'Unknown'"
   ]
  },
  {
   "cell_type": "code",
   "execution_count": 59,
   "metadata": {},
   "outputs": [],
   "source": [
    "get_borough_udf = udf(get_borough, StringType())"
   ]
  },
  {
   "cell_type": "code",
   "execution_count": 60,
   "metadata": {},
   "outputs": [],
   "source": [
    "# apply UDF to trip data for both pickup_borough and dropoff borough\n",
    "filtered_trip_data_df = filtered_trip_data_df.withColumn(\"pickup_borough\", get_borough_udf(col(\"pickup_longitude\"), col(\"pickup_latitude\")))\n",
    "filtered_trip_data_df = filtered_trip_data_df.withColumn(\"dropoff_borough\", get_borough_udf(col(\"dropoff_longitude\"), col(\"dropoff_latitude\")))"
   ]
  },
  {
   "cell_type": "code",
   "execution_count": 21,
   "metadata": {},
   "outputs": [],
   "source": [
    "# trip_data_df = trip_data_df.withColumn(\"pickup_borough\", get_borough_udf(trip_data_df[\"pickup_longitude\"], trip_data_df[\"pickup_latitude\"]))\n",
    "# trip_data_df = trip_data_df.withColumn(\"dropoff_borough\", get_borough_udf(trip_data_df[\"dropoff_longitude\"], trip_data_df[\"dropoff_latitude\"]))"
   ]
  },
  {
   "cell_type": "code",
   "execution_count": 61,
   "metadata": {},
   "outputs": [
    {
     "name": "stdout",
     "output_type": "stream",
     "text": [
      "+--------------------+--------------------+----------------+---------------+-------------------+-----------------+----------------+-------------------+--------------+---------------+\n",
      "|           medallion|        hack_license|pickup_longitude|pickup_latitude|    pickup_datetime|dropoff_longitude|dropoff_latitude|   dropoff_datetime|pickup_borough|dropoff_borough|\n",
      "+--------------------+--------------------+----------------+---------------+-------------------+-----------------+----------------+-------------------+--------------+---------------+\n",
      "|89D227B655E5C82AE...|BA96DE419E711691B...|      -73.978165|      40.757977|2013-01-01 15:11:48|       -73.989838|       40.751171|2013-01-01 15:18:10|     Manhattan|      Manhattan|\n",
      "|0BD7C8F5BA12B88E0...|9FD8F69F0804BDB55...|      -74.006683|      40.731781|2013-01-06 00:18:35|       -73.994499|        40.75066|2013-01-06 00:22:54|     Manhattan|      Manhattan|\n",
      "|0BD7C8F5BA12B88E0...|9FD8F69F0804BDB55...|      -74.004707|       40.73777|2013-01-05 18:49:41|       -74.009834|       40.726002|2013-01-05 18:54:23|     Manhattan|      Manhattan|\n",
      "|DFD2202EE08F7A8DC...|51EE87E3205C985EF...|      -73.974602|      40.759945|2013-01-07 23:54:15|       -73.984734|       40.759388|2013-01-07 23:58:20|     Manhattan|      Manhattan|\n",
      "|DFD2202EE08F7A8DC...|51EE87E3205C985EF...|       -73.97625|      40.748528|2013-01-07 23:25:03|       -74.002586|       40.747868|2013-01-07 23:34:24|     Manhattan|      Manhattan|\n",
      "+--------------------+--------------------+----------------+---------------+-------------------+-----------------+----------------+-------------------+--------------+---------------+\n",
      "only showing top 5 rows\n",
      "\n"
     ]
    }
   ],
   "source": [
    "filtered_trip_data_df.show(5)"
   ]
  },
  {
   "cell_type": "code",
   "execution_count": 23,
   "metadata": {},
   "outputs": [],
   "source": [
    "# Convert time to unix timestamp and compute duration of trip\n",
    "filtered_trip_data_df = filtered_trip_data_df.withColumn(\"pickup_time\", unix_timestamp(filtered_trip_data_df[\"pickup_datetime\"]))\n",
    "filtered_trip_data_df = filtered_trip_data_df.withColumn(\"dropoff_time\", unix_timestamp(filtered_trip_data_df[\"dropoff_datetime\"]))\n",
    "filtered_trip_data_df = filtered_trip_data_df.withColumn(\"duration\", filtered_trip_data_df[\"dropoff_time\"] - filtered_trip_data_df[\"pickup_time\"])"
   ]
  },
  {
   "cell_type": "code",
   "execution_count": 24,
   "metadata": {},
   "outputs": [],
   "source": [
    "# remove trips that are outliers and have a negative duration [CLEAN DATA]\n",
    "clean_trip_data_df = filtered_trip_data_df.filter((filtered_trip_data_df[\"duration\"] > 0) & (filtered_trip_data_df[\"duration\"] <= 4 * 3600))"
   ]
  },
  {
   "cell_type": "code",
   "execution_count": 25,
   "metadata": {},
   "outputs": [
    {
     "name": "stdout",
     "output_type": "stream",
     "text": [
      "+--------------------+--------------------+---------+---------+------------------+-------------------+-------------------+---------------+-----------------+-------------+----------------+---------------+-----------------+----------------+--------------+---------------+-----------+------------+--------+\n",
      "|           medallion|        hack_license|vendor_id|rate_code|store_and_fwd_flag|    pickup_datetime|   dropoff_datetime|passenger_count|trip_time_in_secs|trip_distance|pickup_longitude|pickup_latitude|dropoff_longitude|dropoff_latitude|pickup_borough|dropoff_borough|pickup_time|dropoff_time|duration|\n",
      "+--------------------+--------------------+---------+---------+------------------+-------------------+-------------------+---------------+-----------------+-------------+----------------+---------------+-----------------+----------------+--------------+---------------+-----------+------------+--------+\n",
      "|89D227B655E5C82AE...|BA96DE419E711691B...|      CMT|        1|                 N|2013-01-01 15:11:48|2013-01-01 15:18:10|              4|              382|          1.0|      -73.978165|      40.757977|       -73.989838|       40.751171|     Manhattan|      Manhattan| 1357053108|  1357053490|     382|\n",
      "|0BD7C8F5BA12B88E0...|9FD8F69F0804BDB55...|      CMT|        1|                 N|2013-01-06 00:18:35|2013-01-06 00:22:54|              1|              259|          1.5|      -74.006683|      40.731781|       -73.994499|        40.75066|     Manhattan|      Manhattan| 1357431515|  1357431774|     259|\n",
      "|0BD7C8F5BA12B88E0...|9FD8F69F0804BDB55...|      CMT|        1|                 N|2013-01-05 18:49:41|2013-01-05 18:54:23|              1|              282|          1.1|      -74.004707|       40.73777|       -74.009834|       40.726002|     Manhattan|      Manhattan| 1357411781|  1357412063|     282|\n",
      "|DFD2202EE08F7A8DC...|51EE87E3205C985EF...|      CMT|        1|                 N|2013-01-07 23:54:15|2013-01-07 23:58:20|              2|              244|          0.7|      -73.974602|      40.759945|       -73.984734|       40.759388|     Manhattan|      Manhattan| 1357602855|  1357603100|     245|\n",
      "|DFD2202EE08F7A8DC...|51EE87E3205C985EF...|      CMT|        1|                 N|2013-01-07 23:25:03|2013-01-07 23:34:24|              1|              560|          2.1|       -73.97625|      40.748528|       -74.002586|       40.747868|     Manhattan|      Manhattan| 1357601103|  1357601664|     561|\n",
      "+--------------------+--------------------+---------+---------+------------------+-------------------+-------------------+---------------+-----------------+-------------+----------------+---------------+-----------------+----------------+--------------+---------------+-----------+------------+--------+\n",
      "only showing top 5 rows\n",
      "\n"
     ]
    }
   ],
   "source": [
    "clean_trip_data_df.show(5)"
   ]
  },
  {
   "cell_type": "markdown",
   "metadata": {},
   "source": [
    "### Query 1: Utilization"
   ]
  },
  {
   "cell_type": "code",
   "execution_count": 62,
   "metadata": {},
   "outputs": [],
   "source": [
    "# create window partitioning by pickup time\n",
    "window_spec = Window.partitionBy(\"hack_license\").orderBy(\"pickup_time\")\n",
    "calc_trip_data_df = clean_trip_data_df.withColumn(\"previous_dropoff\", lag(\"dropoff_time\").over(window_spec))"
   ]
  },
  {
   "cell_type": "code",
   "execution_count": 63,
   "metadata": {},
   "outputs": [],
   "source": [
    "# compute the idle time: pickup - last dropoff\n",
    "calc_trip_data_df = calc_trip_data_df.withColumn(\"idle_time\", calc_trip_data_df[\"pickup_time\"] - calc_trip_data_df[\"previous_dropoff\"])"
   ]
  },
  {
   "cell_type": "code",
   "execution_count": 64,
   "metadata": {},
   "outputs": [],
   "source": [
    "#remove trips where the difference between subsequent rides are huge.\n",
    "calc_trip_data_df = calc_trip_data_df.filter((calc_trip_data_df[\"idle_time\"] > 0) & (calc_trip_data_df[\"idle_time\"] <= 4 * 3600))"
   ]
  },
  {
   "cell_type": "code",
   "execution_count": 65,
   "metadata": {},
   "outputs": [],
   "source": [
    "#total idle time per taxi indicated by hack license\n",
    "utilization_df = calc_trip_data_df.groupBy(\"hack_license\").agg(spark_sum(\"idle_time\").alias(\"total_idle_time\")).orderBy(desc(\"total_idle_time\"))"
   ]
  },
  {
   "cell_type": "code",
   "execution_count": 66,
   "metadata": {},
   "outputs": [
    {
     "name": "stdout",
     "output_type": "stream",
     "text": [
      "+--------------------+---------------+\n",
      "|        hack_license|total_idle_time|\n",
      "+--------------------+---------------+\n",
      "|9D1B49F1300FE0067...|          48120|\n",
      "|FFEE627F76A3A498D...|          45780|\n",
      "|4EB96EC9F3A42794D...|          43860|\n",
      "|B7661DF207AD66261...|          43020|\n",
      "|14FAF868BAA670F06...|          41580|\n",
      "|6B4F56A1A0C191C4D...|          40920|\n",
      "|5F7F4EE09860E7732...|          40560|\n",
      "|F13CAF0F4613574F4...|          40560|\n",
      "|5305DE3681B59EC2C...|          40140|\n",
      "|018ACEDAC372E95A9...|          39600|\n",
      "+--------------------+---------------+\n",
      "only showing top 10 rows\n",
      "\n"
     ]
    }
   ],
   "source": [
    "utilization_df.show(10)"
   ]
  },
  {
   "cell_type": "code",
   "execution_count": 68,
   "metadata": {},
   "outputs": [
    {
     "name": "stdout",
     "output_type": "stream",
     "text": [
      "+--------------------+---------------+\n",
      "|        hack_license|total_idle_time|\n",
      "+--------------------+---------------+\n",
      "|23A1E6B3FF2D80309...|             60|\n",
      "|31A1F192A01B30B2C...|             60|\n",
      "|1603132156F27D303...|             60|\n",
      "|E3199D5923AEBE5B4...|             60|\n",
      "|1735076F27B86A649...|             60|\n",
      "|3836463623075CCF1...|             60|\n",
      "|0772E85CB3C3FB46F...|             60|\n",
      "|06150B4FF9CD737D0...|             60|\n",
      "|751EE304AD669A5C9...|             60|\n",
      "|49365436007E31EE7...|             60|\n",
      "+--------------------+---------------+\n",
      "only showing top 10 rows\n",
      "\n"
     ]
    }
   ],
   "source": [
    "#last 10\n",
    "utilization_df.orderBy(\"total_idle_time\").show(10)"
   ]
  },
  {
   "cell_type": "code",
   "execution_count": 69,
   "metadata": {},
   "outputs": [
    {
     "name": "stdout",
     "output_type": "stream",
     "text": [
      "+-----------------------+\n",
      "|average_total_idle_time|\n",
      "+-----------------------+\n",
      "|     10904.484590478474|\n",
      "+-----------------------+\n",
      "\n"
     ]
    }
   ],
   "source": [
    "# Compute the average of the total_idle_time column\n",
    "average_idle_time_df = utilization_df.agg(avg(\"total_idle_time\").alias(\"average_total_idle_time\"))\n",
    "average_idle_time_df.show()"
   ]
  },
  {
   "cell_type": "code",
   "execution_count": 60,
   "metadata": {},
   "outputs": [],
   "source": [
    "# # Store Utilization Results\n",
    "# utilization_df.write.mode(\"overwrite\").parquet(\"delta/utilization_parquet\")\n",
    "# # utilization_df.write.mode(\"overwrite\").csv(\"delta/utilization_csv\", header=True)\n",
    "\n",
    "# calc_trip_data_df.write.mode(\"overwrite\").parquet(\"delta/calc_trip_data_df_parquet\")\n",
    "# # calc_trip_data_df.write.mode(\"overwrite\").csv(\"delta/calc_trip_data_df_csv\", header=True)"
   ]
  },
  {
   "cell_type": "code",
   "execution_count": 70,
   "metadata": {},
   "outputs": [
    {
     "name": "stdout",
     "output_type": "stream",
     "text": [
      "Total Number of Rows in Utilization_df: 8339\n"
     ]
    }
   ],
   "source": [
    "print(f\"Total Number of Rows in Utilization_df: {utilization_df.count()}\")\n",
    "# Indicates the unique number of cars/drivers"
   ]
  },
  {
   "cell_type": "code",
   "execution_count": 71,
   "metadata": {},
   "outputs": [],
   "source": [
    "# Save the DataFrame as a CSV file\n",
    "utilization_df.write.csv(\"output/utilization\", header=True, mode=\"overwrite\")"
   ]
  },
  {
   "cell_type": "markdown",
   "metadata": {},
   "source": [
    "### Query 2: Average Time to Find Next Fare Per Destination Borough"
   ]
  },
  {
   "cell_type": "code",
   "execution_count": 72,
   "metadata": {},
   "outputs": [
    {
     "data": {
      "text/plain": [
       "0"
      ]
     },
     "execution_count": 72,
     "metadata": {},
     "output_type": "execute_result"
    }
   ],
   "source": [
    "calc_trip_data_df.filter(calc_trip_data_df[\"pickup_time\"].isNull()).count()"
   ]
  },
  {
   "cell_type": "code",
   "execution_count": null,
   "metadata": {},
   "outputs": [],
   "source": [
    "# calc_trip_data_df.filter(calc_trip_data_df[\"dropoff_time\"].isNull()).count()"
   ]
  },
  {
   "cell_type": "code",
   "execution_count": null,
   "metadata": {},
   "outputs": [],
   "source": [
    "# print(f\"{calc_trip_data_df.count()}\")"
   ]
  },
  {
   "cell_type": "code",
   "execution_count": 73,
   "metadata": {},
   "outputs": [],
   "source": [
    "# sliding window of pickup time to the next immediate pickup\n",
    "calc_trip_data_df = calc_trip_data_df.withColumn(\"next_pickup\", lead(\"pickup_time\").over(window_spec))\n",
    "calc_trip_data_df = calc_trip_data_df.withColumn(\"time_to_next_fare\", when(col(\"next_pickup\").isNotNull(), col(\"next_pickup\") - col(\"dropoff_time\")).otherwise(None))"
   ]
  },
  {
   "cell_type": "code",
   "execution_count": 74,
   "metadata": {},
   "outputs": [],
   "source": [
    "calc_trip_data_df = calc_trip_data_df.filter(col(\"time_to_next_fare\").isNotNull())"
   ]
  },
  {
   "cell_type": "code",
   "execution_count": 75,
   "metadata": {},
   "outputs": [],
   "source": [
    "average_time_df = calc_trip_data_df.groupBy(\"dropoff_borough\").agg(avg(\"time_to_next_fare\").alias(\"average_time_to_next_fare\")).orderBy(desc(\"average_time_to_next_fare\"))"
   ]
  },
  {
   "cell_type": "code",
   "execution_count": 76,
   "metadata": {},
   "outputs": [
    {
     "name": "stdout",
     "output_type": "stream",
     "text": [
      "+---------------+-------------------------+\n",
      "|dropoff_borough|average_time_to_next_fare|\n",
      "+---------------+-------------------------+\n",
      "|  Staten Island|                   4125.0|\n",
      "|       Brooklyn|        3727.846865364851|\n",
      "|         Queens|       3379.2986818454165|\n",
      "|          Bronx|       3128.3783783783783|\n",
      "|           NULL|       2038.0407754010696|\n",
      "|      Manhattan|       1046.8417208814271|\n",
      "+---------------+-------------------------+\n",
      "\n"
     ]
    }
   ],
   "source": [
    "average_time_df.show(10)"
   ]
  },
  {
   "cell_type": "code",
   "execution_count": 37,
   "metadata": {},
   "outputs": [
    {
     "name": "stdout",
     "output_type": "stream",
     "text": [
      "Total Number of Rows in average_time_df: 6\n"
     ]
    }
   ],
   "source": [
    "# print(f\"Total Number of Rows in average_time_df: {average_time_df.count()}\")\n",
    "# Indicates the unique number of cars/drivers. Should be the same as above."
   ]
  },
  {
   "cell_type": "markdown",
   "metadata": {},
   "source": [
    "### Query 3: Number of Trips Within the Same Borough"
   ]
  },
  {
   "cell_type": "code",
   "execution_count": 77,
   "metadata": {},
   "outputs": [],
   "source": [
    "# total trips that start in one and end within a borough\n",
    "same_borough_df = calc_trip_data_df.filter(calc_trip_data_df[\"pickup_borough\"] == calc_trip_data_df[\"dropoff_borough\"]).groupBy(\"pickup_borough\").count().orderBy(desc(\"count\"))"
   ]
  },
  {
   "cell_type": "code",
   "execution_count": 78,
   "metadata": {},
   "outputs": [
    {
     "name": "stdout",
     "output_type": "stream",
     "text": [
      "+--------------+-----+\n",
      "|pickup_borough|count|\n",
      "+--------------+-----+\n",
      "|     Manhattan|68789|\n",
      "|        Queens|  736|\n",
      "|      Brooklyn|  534|\n",
      "|         Bronx|   32|\n",
      "+--------------+-----+\n",
      "\n"
     ]
    }
   ],
   "source": [
    "same_borough_df.show(10)"
   ]
  },
  {
   "cell_type": "code",
   "execution_count": 40,
   "metadata": {},
   "outputs": [
    {
     "name": "stdout",
     "output_type": "stream",
     "text": [
      "Total Number of Rows in same_borough_df: 4\n"
     ]
    }
   ],
   "source": [
    "# print(f\"Total Number of Rows in same_borough_df: {same_borough_df.count()}\")\n",
    "# Indicates the number of boroughs we have for this."
   ]
  },
  {
   "cell_type": "markdown",
   "metadata": {},
   "source": [
    "### Query 4: Number of Trips Between Different Boroughs"
   ]
  },
  {
   "cell_type": "code",
   "execution_count": 79,
   "metadata": {},
   "outputs": [],
   "source": [
    "# total trips that start in one borough and end in the order\n",
    "different_borough_df = calc_trip_data_df.filter(calc_trip_data_df[\"pickup_borough\"] != calc_trip_data_df[\"dropoff_borough\"]).groupBy(\"pickup_borough\", \"dropoff_borough\").count().orderBy(desc(\"count\"))"
   ]
  },
  {
   "cell_type": "code",
   "execution_count": null,
   "metadata": {},
   "outputs": [],
   "source": [
    "different_borough_df.show(20)"
   ]
  },
  {
   "cell_type": "code",
   "execution_count": 43,
   "metadata": {},
   "outputs": [
    {
     "name": "stdout",
     "output_type": "stream",
     "text": [
      "Total Number of Rows in different_borough_df: 11\n"
     ]
    }
   ],
   "source": [
    "print(f\"Total Number of Rows in different_borough_df: {different_borough_df.count()}\")\n",
    "# Indicates the number of unique A-B borough endings "
   ]
  }
 ],
 "metadata": {
  "kernelspec": {
   "display_name": "Python 3 (ipykernel)",
   "language": "python",
   "name": "python3"
  },
  "language_info": {
   "codemirror_mode": {
    "name": "ipython",
    "version": 3
   },
   "file_extension": ".py",
   "mimetype": "text/x-python",
   "name": "python",
   "nbconvert_exporter": "python",
   "pygments_lexer": "ipython3",
   "version": "3.11.9"
  }
 },
 "nbformat": 4,
 "nbformat_minor": 4
}
